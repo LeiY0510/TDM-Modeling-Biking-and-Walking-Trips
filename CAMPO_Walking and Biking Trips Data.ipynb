{
 "cells": [
  {
   "cell_type": "markdown",
   "id": "fbbc2f14",
   "metadata": {},
   "source": [
    "# Traffic Demand Modeling Result - Walking & Biking Trips"
   ]
  },
  {
   "cell_type": "code",
   "execution_count": 1,
   "id": "13448af5",
   "metadata": {},
   "outputs": [],
   "source": [
    "#Set up enviroment and Import library\n",
    "\n",
    "import pandas as pd\n",
    "import numpy as np\n",
    "import glob\n",
    "import os"
   ]
  },
  {
   "cell_type": "code",
   "execution_count": 2,
   "id": "38a87e64",
   "metadata": {},
   "outputs": [],
   "source": [
    "Trips_Daily_2020 = pd.read_csv('C:/Users/YangL1/AECOM/60684831 - MoKan CAV Corridor Study - General/400_Technical/411 Traffic/CAMPO/OD Tables/Bike & Walk Trip Table/2020/Nonmotorized_Trips_Daily_2020.csv')\n",
    "Trips_Daily_2045_NB = pd.read_csv('C:/Users/YangL1/AECOM/60684831 - MoKan CAV Corridor Study - General/400_Technical/411 Traffic/CAMPO/OD Tables/Bike & Walk Trip Table/2045_NoBuild/Nonmotorized_Trips_Daily_2045_NoBuild.csv')"
   ]
  },
  {
   "cell_type": "code",
   "execution_count": 4,
   "id": "cc617ebd",
   "metadata": {},
   "outputs": [],
   "source": [
    "Trips_Daily_2020.columns =['Origin', 'Destination', 'Walking_Trips','Biking_Trips']\n",
    "Trips_Daily_2045_NB.columns =['Origin', 'Destination', 'Walking_Trips','Biking_Trips']"
   ]
  },
  {
   "cell_type": "code",
   "execution_count": 7,
   "id": "e61a9344",
   "metadata": {},
   "outputs": [
    {
     "data": {
      "text/html": [
       "<div>\n",
       "<style scoped>\n",
       "    .dataframe tbody tr th:only-of-type {\n",
       "        vertical-align: middle;\n",
       "    }\n",
       "\n",
       "    .dataframe tbody tr th {\n",
       "        vertical-align: top;\n",
       "    }\n",
       "\n",
       "    .dataframe thead th {\n",
       "        text-align: right;\n",
       "    }\n",
       "</style>\n",
       "<table border=\"1\" class=\"dataframe\">\n",
       "  <thead>\n",
       "    <tr style=\"text-align: right;\">\n",
       "      <th></th>\n",
       "      <th>Origin</th>\n",
       "      <th>Destination</th>\n",
       "      <th>Walking_Trips</th>\n",
       "      <th>Biking_Trips</th>\n",
       "    </tr>\n",
       "  </thead>\n",
       "  <tbody>\n",
       "    <tr>\n",
       "      <th>0</th>\n",
       "      <td>1</td>\n",
       "      <td>2</td>\n",
       "      <td>0.060964</td>\n",
       "      <td>0.204944</td>\n",
       "    </tr>\n",
       "    <tr>\n",
       "      <th>1</th>\n",
       "      <td>1</td>\n",
       "      <td>3</td>\n",
       "      <td>5.654049</td>\n",
       "      <td>1.121871</td>\n",
       "    </tr>\n",
       "    <tr>\n",
       "      <th>2</th>\n",
       "      <td>1</td>\n",
       "      <td>4</td>\n",
       "      <td>0.000066</td>\n",
       "      <td>0.038316</td>\n",
       "    </tr>\n",
       "    <tr>\n",
       "      <th>3</th>\n",
       "      <td>1</td>\n",
       "      <td>5</td>\n",
       "      <td>0.035260</td>\n",
       "      <td>0.184347</td>\n",
       "    </tr>\n",
       "    <tr>\n",
       "      <th>4</th>\n",
       "      <td>1</td>\n",
       "      <td>6</td>\n",
       "      <td>0.000000</td>\n",
       "      <td>0.008435</td>\n",
       "    </tr>\n",
       "  </tbody>\n",
       "</table>\n",
       "</div>"
      ],
      "text/plain": [
       "   Origin  Destination  Walking_Trips  Biking_Trips\n",
       "0       1            2       0.060964      0.204944\n",
       "1       1            3       5.654049      1.121871\n",
       "2       1            4       0.000066      0.038316\n",
       "3       1            5       0.035260      0.184347\n",
       "4       1            6       0.000000      0.008435"
      ]
     },
     "execution_count": 7,
     "metadata": {},
     "output_type": "execute_result"
    }
   ],
   "source": [
    "#Trips_Daily_2020.head()\n",
    "\n",
    "Trips_Daily_2020.head()"
   ]
  },
  {
   "cell_type": "code",
   "execution_count": 8,
   "id": "20e228b1",
   "metadata": {},
   "outputs": [],
   "source": [
    "origin_sum_2020 = Trips_Daily_2020.groupby(['Origin']).sum().drop(['Destination'], axis=1)\n",
    "origin_sum_2020.columns =['Walking_OTrips', 'Biking_OTrips']\n",
    "origin_sum_2020.to_csv('C:/Users/YangL1/OneDrive - AECOM/Desktop/Local Project Folder/MoKan CAV Corridor/OD_data_analysis/origin_sum_2020.csv')"
   ]
  },
  {
   "cell_type": "code",
   "execution_count": 9,
   "id": "0bf52b6d",
   "metadata": {},
   "outputs": [],
   "source": [
    "origin_sum_2045_NB = Trips_Daily_2045_NB.groupby(['Origin']).sum().drop(['Destination'], axis=1)\n",
    "origin_sum_2045_NB.columns =['Walking_OTrips', 'Biking_OTrips']\n",
    "origin_sum_2045_NB.to_csv('C:/Users/YangL1/OneDrive - AECOM/Desktop/Local Project Folder/MoKan CAV Corridor/OD_data_analysis/origin_sum_2045_NB.csv')"
   ]
  },
  {
   "cell_type": "code",
   "execution_count": 10,
   "id": "10ab8063",
   "metadata": {},
   "outputs": [],
   "source": [
    "dest_sum_2020 = Trips_Daily_2020.groupby(['Destination']).sum().drop(['Origin'], axis=1)\n",
    "dest_sum_2020.columns =['Walking_DTrips', 'Biking_DTrips']\n",
    "dest_sum_2020.to_csv('C:/Users/YangL1/OneDrive - AECOM/Desktop/Local Project Folder/MoKan CAV Corridor/OD_data_analysis/dest_sum_2020.csv')"
   ]
  },
  {
   "cell_type": "code",
   "execution_count": 11,
   "id": "af2c45ee",
   "metadata": {},
   "outputs": [],
   "source": [
    "dest_sum_2045_NB = Trips_Daily_2045_NB.groupby(['Destination']).sum().drop(['Origin'], axis=1)\n",
    "dest_sum_2045_NB.columns =['Walking_DTrips', 'Biking_DTrips']\n",
    "dest_sum_2045_NB.to_csv('C:/Users/YangL1/OneDrive - AECOM/Desktop/Local Project Folder/MoKan CAV Corridor/OD_data_analysis/dest_sum_2045_NB.csv')"
   ]
  },
  {
   "cell_type": "code",
   "execution_count": 12,
   "id": "00a42374",
   "metadata": {},
   "outputs": [
    {
     "data": {
      "text/html": [
       "<div>\n",
       "<style scoped>\n",
       "    .dataframe tbody tr th:only-of-type {\n",
       "        vertical-align: middle;\n",
       "    }\n",
       "\n",
       "    .dataframe tbody tr th {\n",
       "        vertical-align: top;\n",
       "    }\n",
       "\n",
       "    .dataframe thead th {\n",
       "        text-align: right;\n",
       "    }\n",
       "</style>\n",
       "<table border=\"1\" class=\"dataframe\">\n",
       "  <thead>\n",
       "    <tr style=\"text-align: right;\">\n",
       "      <th></th>\n",
       "      <th>Walking_DTrips</th>\n",
       "      <th>Biking_DTrips</th>\n",
       "    </tr>\n",
       "    <tr>\n",
       "      <th>Destination</th>\n",
       "      <th></th>\n",
       "      <th></th>\n",
       "    </tr>\n",
       "  </thead>\n",
       "  <tbody>\n",
       "    <tr>\n",
       "      <th>1</th>\n",
       "      <td>254.375884</td>\n",
       "      <td>47.334063</td>\n",
       "    </tr>\n",
       "    <tr>\n",
       "      <th>2</th>\n",
       "      <td>255.649570</td>\n",
       "      <td>60.574461</td>\n",
       "    </tr>\n",
       "    <tr>\n",
       "      <th>3</th>\n",
       "      <td>350.909058</td>\n",
       "      <td>70.224621</td>\n",
       "    </tr>\n",
       "    <tr>\n",
       "      <th>4</th>\n",
       "      <td>486.367211</td>\n",
       "      <td>15.757398</td>\n",
       "    </tr>\n",
       "    <tr>\n",
       "      <th>5</th>\n",
       "      <td>49.620504</td>\n",
       "      <td>44.716730</td>\n",
       "    </tr>\n",
       "  </tbody>\n",
       "</table>\n",
       "</div>"
      ],
      "text/plain": [
       "             Walking_DTrips  Biking_DTrips\n",
       "Destination                               \n",
       "1                254.375884      47.334063\n",
       "2                255.649570      60.574461\n",
       "3                350.909058      70.224621\n",
       "4                486.367211      15.757398\n",
       "5                 49.620504      44.716730"
      ]
     },
     "execution_count": 12,
     "metadata": {},
     "output_type": "execute_result"
    }
   ],
   "source": [
    "dest_sum_2045_NB.head()"
   ]
  },
  {
   "cell_type": "code",
   "execution_count": null,
   "id": "d1adcb2a",
   "metadata": {},
   "outputs": [],
   "source": []
  }
 ],
 "metadata": {
  "kernelspec": {
   "display_name": "Python 3 (ipykernel)",
   "language": "python",
   "name": "python3"
  },
  "language_info": {
   "codemirror_mode": {
    "name": "ipython",
    "version": 3
   },
   "file_extension": ".py",
   "mimetype": "text/x-python",
   "name": "python",
   "nbconvert_exporter": "python",
   "pygments_lexer": "ipython3",
   "version": "3.9.12"
  }
 },
 "nbformat": 4,
 "nbformat_minor": 5
}
